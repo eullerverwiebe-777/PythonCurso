{
 "cells": [
  {
   "cell_type": "markdown",
   "id": "bf215b1f",
   "metadata": {},
   "source": [
    "Aprendendo Python"
   ]
  },
  {
   "cell_type": "code",
   "execution_count": null,
   "id": "0bba2901",
   "metadata": {
    "vscode": {
     "languageId": "plaintext"
    }
   },
   "outputs": [],
   "source": [
    "print(\"Hello World\")"
   ]
  }
 ],
 "metadata": {
  "language_info": {
   "name": "python"
  }
 },
 "nbformat": 4,
 "nbformat_minor": 5
}
